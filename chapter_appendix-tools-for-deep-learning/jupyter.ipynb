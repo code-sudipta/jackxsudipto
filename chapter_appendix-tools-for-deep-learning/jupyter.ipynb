{
  "cells": [
    {
      "cell_type": "code",
      "source": [
        "import pandas as pd\n",
        "from sklearn.model_selection import train_test_split\n",
        "from sklearn.ensemble import RandomForestClassifier\n",
        "from sklearn.preprocessing import LabelEncoder\n",
        "import joblib\n",
        "\n",
        "def load_and_preprocess_data(file_path):\n",
        "    # Load dataset\n",
        "    df = pd.read_csv(file_path)\n",
        "\n",
        "    # Drop irrelevant columns\n",
        "    df_cleaned = df.drop(columns=[\"ID\", \"Unnamed: 22\"], errors=\"ignore\")\n",
        "\n",
        "    # Encode categorical features\n",
        "    if \"Machine\" in df_cleaned.columns:\n",
        "        le = LabelEncoder()\n",
        "        df_cleaned[\"Machine\"] = le.fit_transform(df_cleaned[\"Machine\"].astype(str))\n",
        "\n",
        "    # Handle missing values\n",
        "    df_cleaned.fillna(df_cleaned.mean(), inplace=True)\n",
        "\n",
        "    # Reduce memory usage\n",
        "    for col in df_cleaned.select_dtypes(include=[\"float64\"]):\n",
        "        df_cleaned[col] = df_cleaned[col].astype(\"float32\")\n",
        "    for col in df_cleaned.select_dtypes(include=[\"int64\"]):\n",
        "        df_cleaned[col] = df_cleaned[col].astype(\"int32\")\n",
        "\n",
        "    return df_cleaned\n",
        "\n",
        "def create_model():\n",
        "    return RandomForestClassifier(n_estimators=100, random_state=42)\n",
        "\n",
        "def save_model(model, filename=\"antivirus_model.pkl\"):\n",
        "    joblib.dump(model, filename)\n",
        "    print(f\"Model saved as {filename}\")\n",
        "\n",
        "if __name__ == \"__main__\":\n",
        "    # Example usage\n",
        "    file_path = \"Training_Set.csv\"  # Change this to your dataset path\n",
        "    df = load_and_preprocess_data(file_path)\n",
        "\n",
        "    # Split data\n",
        "    X = df.drop(columns=[\"label\"])\n",
        "    y = df[\"label\"]\n",
        "    X_train, X_test, y_train, y_test = train_test_split(X, y, test_size=0.2, random_state=42)\n",
        "\n",
        "    # Create model\n",
        "    model = create_model()\n",
        "\n",
        "    # Train model (Uncomment below if you want to train now)\n",
        "    model.fit(X_train, y_train)\n",
        "    # save_model(model)\n",
        "\n",
        "    print(\"Model created. Train it using model.fit(X_train, y_train)\")\n"
      ],
      "metadata": {
        "id": "OicogrsSFotv",
        "outputId": "34d2c72c-dbde-4dd4-8a98-a845fbf9eee3",
        "colab": {
          "base_uri": "https://localhost:8080/"
        }
      },
      "id": "OicogrsSFotv",
      "execution_count": 4,
      "outputs": [
        {
          "output_type": "stream",
          "name": "stdout",
          "text": [
            "Model created. Train it using model.fit(X_train, y_train)\n"
          ]
        }
      ]
    },
    {
      "cell_type": "code",
      "source": [
        "save_model(model)"
      ],
      "metadata": {
        "id": "706dnMyeGUpT",
        "outputId": "b9569ed1-8c7c-4c15-a6e7-acc9e7f4e3c4",
        "colab": {
          "base_uri": "https://localhost:8080/"
        }
      },
      "id": "706dnMyeGUpT",
      "execution_count": 5,
      "outputs": [
        {
          "output_type": "stream",
          "name": "stdout",
          "text": [
            "Model saved as antivirus_model.pkl\n"
          ]
        }
      ]
    },
    {
      "cell_type": "code",
      "source": [
        "import joblib\n",
        "import pandas as pd\n",
        "\n",
        "# Load the trained model\n",
        "model = joblib.load(\"antivirus_model.pkl\")\n",
        "\n",
        "# Example file features (replace with real extracted features)\n",
        "new_file_data = {\n",
        "    \"SizeOfCode\": 47616,\n",
        "    \"SizeOfInitializedData\": 21504,\n",
        "    \"AddressOfEntryPoint\": 49600,\n",
        "    \"ImageBase\": 4194304,\n",
        "    \"Subsystem\": 2,\n",
        "    \"DllCharacteristics\": 32768,\n",
        "    \"SizeOfStackReserve\": 1048576,\n",
        "    \"SizeOfHeapReserve\": 1048576,\n",
        "    \"NumberOfRvaAndSizes\": 16,\n",
        "    \"SectionsMeanEntropy\": 3.233288256,\n",
        "    \"SectionsMinEntropy\": 0,\n",
        "    \"SectionsMaxEntropy\": 6.454907966,\n",
        "    \"ImportsNbDLL\": 11,\n",
        "    \"ImportsNb\": 114,\n",
        "    \"ExportsNb\": 0,\n",
        "    \"ResourcesNb\": 16,\n",
        "    \"ResourcesMeanEntropy\": 3.479949179,\n",
        "    \"ResourcesMinEntropy\": 1.174874633,\n",
        "    \"ResourcesMaxEntropy\": 5.156196358,\n",
        "    \"VersionInformationSize\": 15\n",
        "}\n",
        "\n",
        "# Convert to DataFrame\n",
        "new_file_df = pd.DataFrame([new_file_data])\n",
        "\n",
        "# Predict if the file is malware (1) or safe (0)\n",
        "prediction = model.predict(new_file_df)\n",
        "\n",
        "if prediction[0] == 1:\n",
        "    print(\"⚠️ The file is a VIRUS!\")\n",
        "else:\n",
        "    print(\"✅ The file is SAFE.\")\n"
      ],
      "metadata": {
        "id": "rVsvnhawG-tI",
        "outputId": "4d82778f-5eaa-4b2d-85c7-268602b825cb",
        "colab": {
          "base_uri": "https://localhost:8080/"
        }
      },
      "id": "rVsvnhawG-tI",
      "execution_count": 7,
      "outputs": [
        {
          "output_type": "stream",
          "name": "stdout",
          "text": [
            "✅ The file is SAFE.\n"
          ]
        }
      ]
    },
    {
      "cell_type": "code",
      "source": [
        "import pandas as pd\n",
        "import joblib\n",
        "from sklearn.metrics import accuracy_score\n",
        "\n",
        "# Load testing dataset\n",
        "test_df = pd.read_csv(\"Testing_Set.csv\")\n",
        "\n",
        "# Define important features\n",
        "important_features = [\n",
        "    \"SizeOfCode\", \"SizeOfInitializedData\", \"AddressOfEntryPoint\", \"ImageBase\",\n",
        "    \"Subsystem\", \"DllCharacteristics\", \"SizeOfStackReserve\", \"SizeOfHeapReserve\",\n",
        "    \"NumberOfRvaAndSizes\", \"SectionsMeanEntropy\", \"SectionsMinEntropy\", \"SectionsMaxEntropy\",\n",
        "    \"ImportsNbDLL\", \"ImportsNb\", \"ExportsNb\", \"ResourcesNb\", \"ResourcesMeanEntropy\",\n",
        "    \"ResourcesMinEntropy\", \"ResourcesMaxEntropy\", \"VersionInformationSize\"\n",
        "]\n",
        "\n",
        "# Prepare test data\n",
        "X_test = test_df[important_features]\n",
        "y_test = test_df[\"label\"]\n",
        "\n",
        "# Load trained model\n",
        "model = joblib.load(\"antivirus_model.pkl\")  # Ensure this file exists\n",
        "\n",
        "# Predict on test data\n",
        "y_pred = model.predict(X_test)\n",
        "\n",
        "# Calculate accuracy\n",
        "accuracy = accuracy_score(y_test, y_pred)\n",
        "print(f\"✅ Model Accuracy: {accuracy * 100:.2f}%\")\n"
      ],
      "metadata": {
        "id": "C-p4GCtCn8eU",
        "outputId": "b4c29565-1ace-49b2-cd00-a37c30a08df3",
        "colab": {
          "base_uri": "https://localhost:8080/"
        }
      },
      "id": "C-p4GCtCn8eU",
      "execution_count": 8,
      "outputs": [
        {
          "output_type": "stream",
          "name": "stdout",
          "text": [
            "✅ Model Accuracy: 96.02%\n"
          ]
        }
      ]
    }
  ],
  "metadata": {
    "kernelspec": {
      "display_name": "Python 3",
      "name": "python3"
    },
    "language_info": {
      "name": "python"
    },
    "required_libs": [],
    "colab": {
      "provenance": []
    }
  },
  "nbformat": 4,
  "nbformat_minor": 5
}